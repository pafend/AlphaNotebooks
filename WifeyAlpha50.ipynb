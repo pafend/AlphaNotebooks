{
 "cells": [
  {
   "cell_type": "markdown",
   "id": "98d07a14",
   "metadata": {},
   "source": [
    "# WifeyAlpha - Research Drop - 50 Indicators"
   ]
  },
  {
   "cell_type": "markdown",
   "id": "06082b46",
   "metadata": {},
   "source": [
    "Sir, this is houskeeping, we need to check the keys and make sure our vacuum cleaners are working correctly"
   ]
  },
  {
   "cell_type": "code",
   "execution_count": null,
   "id": "b9a98028",
   "metadata": {},
   "outputs": [],
   "source": [
    "# Install a conda package in the current Jupyter kernel\n",
    "# This way you can solve any \"ModuleNotFoundError: No module named 'ipympl'\" Error by \n",
    "# putting the module name here where you found ipympl\n",
    "import sys\n",
    "# !conda install --yes --prefix {sys.prefix} ipympl\n",
    "# amazing interactive charts # https://towardsdatascience.com/get-interactive-plots-directly-with-pandas-13a311ebf426\n",
    "# !conda install --yes --prefix {sys.prefix} -c patrikhlobil pandas-bokeh \n",
    "# !pip install multitasking\n",
    "# Yahoo Finance\n",
    "# !pip install -i https://pypi.anaconda.org/ranaroussi/simple yfinance==0.1.62\n",
    "# Nasdaq Data Link\n",
    "# !pip install nasdaq-data-link\n",
    "\n",
    "from fredapi import Fred\n",
    "fred = Fred(api_key='7a5b789d9c1274f3a474d064316c9eaf')\n",
    "# importing matplotlib module\n",
    "import pandas as pd\n",
    "# for interactive plots\n",
    "import pandas_bokeh\n",
    "# for static plots\n",
    "import matplotlib.pyplot as plt\n",
    "# initalize bohek interactive\n",
    "pandas_bokeh.output_notebook()\n",
    "\n",
    "# personal use only! Yahoo finance\n",
    "import yfinance as yf\n",
    "# nasdaq data link! Todo: Check for usages under commercial\n",
    "import nasdaqdatalink\n",
    "import datetime\n",
    "\n",
    "# here are the tweets\n",
    "# Part 1:\n",
    "# https://twitter.com/wifeyalpha/status/1563608271310622720?s=21&t=oLpOLjdycNyKnM_c6kcJWw\n",
    "# Part 2:\n",
    "# https://twitter.com/wifeyalpha/status/1565058274294104066?s=21&t=oLpOLjdycNyKnM_c6kcJWw\n",
    "# Part 3:\n",
    "# https://twitter.com/wifeyalpha/status/1566093228142743554?s=21&t=oLpOLjdycNyKnM_c6kcJWw"
   ]
  },
  {
   "cell_type": "code",
   "execution_count": null,
   "id": "e1555537",
   "metadata": {},
   "outputs": [],
   "source": [
    "import requests\n",
    "imf_url = 'http://dataservices.imf.org/REST/SDMX_JSON.svc/'"
   ]
  },
  {
   "cell_type": "markdown",
   "id": "57785ec9",
   "metadata": {},
   "source": [
    "### Wifey Data Download"
   ]
  },
  {
   "cell_type": "code",
   "execution_count": null,
   "id": "381813f2",
   "metadata": {},
   "outputs": [],
   "source": [
    "# Wifey Download\n",
    "# get data from fred\n",
    "# 1. GDP deflator\n",
    "gdp_deflator=fred.get_series('GDPDEF')\n",
    "# 2. Gold price\n",
    "data_gold_futures=yf.download('GC=F', period='max')\n",
    "# 3. Misery Index\n",
    "# Misery Index is based on two timeseries which you need to add\n",
    "us_unemployment=fred.get_series('UNRATE')\n",
    "# this series is not posted as delta\n",
    "us_inflation=fred.get_series('CPIAUCSL')\n",
    "# 4. PPI\n",
    "us_ppi=fred.get_series('PPIACO')"
   ]
  },
  {
   "cell_type": "code",
   "execution_count": null,
   "id": "7c36680c",
   "metadata": {},
   "outputs": [],
   "source": [
    "# 5. Retail investment activity\n",
    "# No direct link given, here is an example\n",
    "# https://data.nasdaq.com/databases/RTAT/documentation?anchor=product-overview\n",
    "# Premium + Sample\n",
    "# nasdaq_top_10_retail_flow=nasdaqdatalink.get_table('NDAQ/RTAT10', date='2022-09-02', ticker='TSLA,TQQQ,SQQQ')"
   ]
  },
  {
   "cell_type": "code",
   "execution_count": null,
   "id": "38c852bd",
   "metadata": {},
   "outputs": [],
   "source": [
    "# Here is the link to the data https://www.theia.org/industry-data/fund-statistics/retail-sales/18\n",
    "# 6. Credit spreads\n",
    "# here some data, divide and conquer\n",
    "y30tips=fred.get_series('DFII30')\n",
    "y20tips=fred.get_series('DFII20')\n",
    "y10tips=fred.get_series('DFII10')\n",
    "y7tips=fred.get_series('DFII7')\n",
    "y5tips=fred.get_series('DFII5')\n",
    "y30=fred.get_series('DGS30')\n",
    "y20=fred.get_series('DGS20')\n",
    "y10=fred.get_series('DGS10')\n",
    "y7=fred.get_series('DGS7')\n",
    "y5=fred.get_series('DGS5')\n",
    "y3=fred.get_series('DGS3')\n",
    "y2=fred.get_series('DGS2')\n",
    "y1=fred.get_series('DGS1')\n",
    "m6=fred.get_series('DGS6MO')\n",
    "m3=fred.get_series('DGS3MO')\n",
    "m1=fred.get_series('DGS1MO')\n",
    "fedfund=fred.get_series('FEDFUNDS')\n",
    "aaa_credit_effective=fred.get_series('BAMLC0A1CAAAEY')\n",
    "bbb_credit_effective=fred.get_series('BAMLC0A4CBBBEY')\n",
    "ccc_credit_effective=fred.get_series('BAMLH0A3HYCEY')\n",
    "# 7. TED Spread\n",
    "# you could go libor vs 10y or you take the fed funds rate"
   ]
  },
  {
   "cell_type": "code",
   "execution_count": null,
   "id": "2163cb01",
   "metadata": {},
   "outputs": [],
   "source": [
    "# 8. Texas Zombie Bank Ratio\n",
    "# api specs https://banks.data.fdic.gov/docs/#/Historical/getHistorical\n",
    "# For simplicity, we just download the xlsx and parse it\n",
    "# not working any more xlrd stopped support\n",
    "# texas_zombi_bank_ratio=pd.read_excel(\"https://www.fdic.gov/analysis/quarterly-banking-profile/statistics-at-a-glance/2022mar/industry.xlsx\",sheet_name=\"STATS AT A GLANCE\")\n",
    "\n",
    "# 9. TIPS spread\n",
    "# y10tips - fedfund \n",
    "\n",
    "# 10. VIX Index\n",
    "data_vix_total=yf.download(\"^VIX\", period=\"max\")\n",
    "\n",
    "# 11. VIXEN Index - Hot waitresses - or maybe nasdaq 100 vol?\n",
    "data_vixen_total=yf.download(\"^VXN\", period=\"max\")\n"
   ]
  },
  {
   "cell_type": "code",
   "execution_count": null,
   "id": "0f16245a",
   "metadata": {},
   "outputs": [],
   "source": [
    "# Round 2 Wifey\n",
    "# GDP = C + I + G + NX\n",
    "# CONSUMPTION (C)\n",
    "# 12. Automobile sales\n",
    "# Wifey goes to a dead link (for me) here are total vehicle sales from fred, sir\n",
    "auto_sales=fred.get_series('TOTALSA')\n",
    "\n",
    "# 13. Chain Store Sales\n",
    "# Redbook - I am sorry sir, this data is premium\n",
    "#nasdaq_redbook=nasdaqdatalink.get('SGE/USARDBK')\n",
    "\n",
    "# 14. Consumer Sentiment\n",
    "umcsics=fred.get_series('UMCSENT')\n",
    "\n",
    "# 15. Existing Home Sales\n",
    "existing_home_sales=fred.get_series('EXHOSLUSM495S')\n",
    "existing_home_sales_inventory=fred.get_series('HOSINVUSM495N')\n",
    "\n",
    "# 16. Underemployment\n",
    "slack=fred.get_series('LNS12032195')\n",
    "\n",
    "# INVESTMENT (I)\n",
    "# 17. Book-To-Bill\n",
    "# premium\n",
    "\n",
    "# 18. Copper\n",
    "copper_comex=yf.download(\"HG=F\", period=\"max\")\n",
    "# lme is premium copper_lme https://www.lme.com/en/metals/non-ferrous/lme-copper#Trading+day+summary\n",
    "copper_lme_spot_usd=nasdaqdatalink.get('ODA/PCOPP_USD') # should be free\n",
    "\n",
    "imf_key_copper = ''\n",
    "# TODO: IMF Calls\n",
    "#copper_imf=(requests.get(f'{imf_url}{imf_key_copper}').json()['CompactData']['DataSet']['Series'])\n",
    "\n",
    "# 19. Durable Goods Orders\n",
    "durable_goods_orders=fred.get_series('DGORDER')\n",
    "\n",
    "# 20. Housing Permits and Starts\n",
    "building_permits=fred.get_series('PERMIT')\n",
    "housing_starts=fred.get_series('HOUST')\n",
    "# 21. Industrial Production and Capacity Utilization\n",
    "indu_prod=fred.get_series('INDPRO')\n",
    "capacity_util=fred.get_series('TCU')\n",
    "\n",
    "# 22. ISM Manufacturing\n",
    "# This is not allowed to be published and they made this very clear, however there is some old data available. Might be interesting for testing purposes\n",
    "# !!! DATA ONLY TILL 05.2016 !!!\n",
    "ism_pmi=nasdaqdatalink.get('FRED/NAPM')\n",
    "\n",
    "# 23. ISM Non Manufacturing\n",
    "# This is not allowed to be published and they made this very clear, however there is some old data available. Might be interesting for testing purposes\n",
    "# !!! DATA ONLY TILL 05.2016 !!!\n",
    "ism_nmi=nasdaqdatalink.get('FRED/NMFCI')\n",
    "\n",
    "# 24. JoC-ECRI Industrial Price Index\n",
    "# Premium\n",
    "\n",
    "# 25. London Metal Exchange Inventories\n",
    "# https://www.lme.com/en/market-data/accessing-market-data/historical-data # Premium\n",
    "# https://www.cmegroup.com/ftp/bulletin/ # Premium\n",
    "# https://www.shfe.com.cn/en/products/Copper/\n",
    "\n",
    "# 26. Personal Saving Rate\n",
    "personal_savings_rate=fred.get_series('PSAVERT')\n",
    "\n",
    "# 27. Unit Labor Costs\n",
    "unit_labor_cost=fred.get_series('ULCNFB')\n",
    "\n",
    "\n",
    "# GOVERNMENT (G)\n",
    "# 28. Federal Govenment Budget Deficits and the National Debt\n",
    "federal_debt=fred.get_series('GFDEBTN')\n",
    "federal_surplus_deficit=fred.get_series('MTSDS133FMS')\n",
    "\n",
    "\n",
    "# NET EXPROTS (NX)\n",
    "# 29. Baltic Dry Index\n",
    "# maybe possible through https://eodhistoricaldata.com/financial-summary/BDIY.INDX\n",
    "\n",
    "# 30. Big Mac Index\n",
    "# https://data.nasdaq.com/data/ECONOMIST-the-economist-big-mac-index # A lot of free indices we will do two examples here\n",
    "big_mac_index_switzerland=nasdaqdatalink.get('ECONOMIST/BIGMAC_CHE')\n",
    "big_mac_index_china=nasdaqdatalink.get('ECONOMIST/BIGMAC_CHN')\n",
    "\n",
    "# 31. Current Account Deficit\n",
    "current_account=fred.get_series('IEABC')\n",
    "\n",
    "# 32. Oil Inventories\n",
    "oil_inventory=pd.read_excel(\"https://www.eia.gov/dnav/pet/hist_xls/WTTSTUS1w.xls\",\"Data 1\",headers=1,skiprows=1)\n",
    "\n",
    "# 33. Tankan Survey\n",
    "#https://www.boj.or.jp/en/statistics/tk/index.htm/\n",
    "# A mother load of data in excel files. See above\n",
    "\n",
    "# 34. TIC Data\n",
    "tic_data=pd.read_csv(\"https://treasury.gov/resource-center/data-chart-center/tic/Documents/npr_history.csv\")"
   ]
  },
  {
   "cell_type": "code",
   "execution_count": null,
   "id": "461d9abb",
   "metadata": {},
   "outputs": [],
   "source": [
    "# Round 3 Wifey\n",
    "# 35. Beige Book\n",
    "# goodread: https://www.federalreserve.gov/monetarypolicy/beige-book-default.htm\n",
    "\n",
    "# 36. Crack Spread\n",
    "oil_futures=yf.download(\"CL=F\", period=\"max\")\n",
    "gasoline_futures=yf.download(\"RB=F\", period=\"max\")\n",
    "\n",
    "# 37. Credit Availability Oscillator\n",
    "# Prop: https://sec.report/CIK/0001329948\n",
    "\n",
    "# 38. Federal Funds Rate\n",
    "fedfund=fred.get_series('FEDFUNDS')\n",
    "\n",
    "# 39. Fertility Rates\n",
    "# https://data.nasdaq.com/data/FRED-federal-reserve-economic-data?keyword=fertility%20rate\n",
    "fertility_ger=nasdaqdatalink.get('FRED/SPADOTFRTDEU')\n",
    "\n",
    "# 40. Gross Domestic Product per Capita\n",
    "real_gdp_per_capita=fred.get_series('A939RX0Q048SBEA')\n",
    "\n",
    "# 41. Libor\n",
    "libor=fred.get_series('LIOR3M')\n",
    "\n",
    "# 42. M2 Money Supply\n",
    "m2=fred.get_series('M2SL')\n",
    "data_spx_total=yf.download(\"^SPX\", period=\"max\")\n",
    "\n",
    "# 43. New Home Sales\n",
    "median_sales_price_of_houses_sold_for_the_united_states=fred.get_series('MSPUS')\n",
    "\n",
    "# 44. The Aruoba-Diebold-Scotti Business Conditiona Index\n",
    "# XLSX is no longer supported\n",
    "#ads_bc_index=pd.read_excel('https://www.philadelphiafed.org/-/media/frbp/assets/surveys-and-data/ads/ads_index_most_current_vintage.xlsx')\n",
    "\n",
    "# 45. Business Outlook Survey\n",
    "business_index_philly=pd.read_csv('https://www.philadelphiafed.org/-/media/frbp/assets/surveys-and-data/mbos/historical-data/diffusion-indexes/bos_dif.csv')\n",
    "\n",
    "# 46. Real Interest Rates\n",
    "nominal_rate=y1\n",
    "cpi_ex_food_energy=fred.get_series('CORESTICKM159SFRBATL')\n",
    "ppi=fred.get_series('PPIACO')\n",
    "gdp_pce_deflator=fred.get_series('A191RI1Q225SBEA')\n",
    "# 47. Short Interest\n",
    "# premium https://data.nasdaq.com/databases/NSIR/documentation and https://shortsqueeze.com/InfoResources.php\n",
    "\n",
    "# 48. Russel 2000\n",
    "rut=yf.download(\"^RUT\", period=\"max\")\n",
    "\n",
    "# 49. Weekly Leading Index\n",
    "# Premium\n",
    "\n",
    "# 50. Yield Curve\n",
    "# see top rate download\n"
   ]
  },
  {
   "cell_type": "code",
   "execution_count": null,
   "id": "9823055b",
   "metadata": {},
   "outputs": [],
   "source": [
    "# IMF Clean up + Examples\n",
    "#https://datahelp.imf.org/knowledgebase/articles/667681-json-restful-web-service\n",
    "url = 'http://dataservices.imf.org/REST/SDMX_JSON.svc/'\n",
    "key = 'CompactData/IFS/M.GB.PMP_IX' # adjust codes here\n",
    "\n",
    "# Navigate to series in API-returned JSON data\n",
    "data = (requests.get(f'{url}{key}').json()\n",
    "        ['CompactData']['DataSet']['Series'])\n",
    "\n",
    "print(data['Obs'][-1]) # Print latest observation\n",
    "# 2\n",
    "baseyr = data['@BASE_YEAR']  # Save the base year\n",
    "\n",
    "# Create pandas dataframe from the observations\n",
    "data_list = [[obs.get('@TIME_PERIOD'), obs.get('@OBS_VALUE')]\n",
    "             for obs in data['Obs']]\n",
    "\n",
    "df = pd.DataFrame(data_list, columns=['date', 'value'])\n",
    "     \n",
    "df = df.set_index(pd.to_datetime(df['date']))['value'].astype('float')"
   ]
  },
  {
   "cell_type": "code",
   "execution_count": null,
   "id": "5d87c081",
   "metadata": {},
   "outputs": [],
   "source": []
  },
  {
   "cell_type": "markdown",
   "id": "d20dc029",
   "metadata": {},
   "source": [
    "## Leading Indicator Dashboard"
   ]
  },
  {
   "cell_type": "markdown",
   "id": "280f9e4d",
   "metadata": {},
   "source": [
    "### US Leading Indicators"
   ]
  },
  {
   "cell_type": "markdown",
   "id": "4ab07adb",
   "metadata": {},
   "source": [
    "#### Money Markets"
   ]
  },
  {
   "cell_type": "markdown",
   "id": "c09ea3eb",
   "metadata": {},
   "source": [
    "Real Interest Rates"
   ]
  },
  {
   "cell_type": "code",
   "execution_count": null,
   "id": "21e01f44",
   "metadata": {},
   "outputs": [],
   "source": [
    "\n",
    "pd.set_option('plotting.backend', 'pandas_bokeh')\n",
    "# now everything must be in one dataframe"
   ]
  },
  {
   "cell_type": "code",
   "execution_count": null,
   "id": "9ed17e98",
   "metadata": {},
   "outputs": [],
   "source": [
    "y30tipsdf = pd.DataFrame(y30tips)\n",
    "y20tipsdf = pd.DataFrame(y20tips)\n",
    "y10tipsdf = pd.DataFrame(y10tips)\n",
    "y7tipsdf = pd.DataFrame(y7tips)\n",
    "y5tipsdf = pd.DataFrame(y5tips)\n",
    "y30tipsdf.columns = [\"30y Tips\"]\n",
    "y20tipsdf.columns = [\"20y Tips\"]\n",
    "y10tipsdf.columns = [\"10y Tips\"]\n",
    "y7tipsdf.columns = [\"7y Tips\"]\n",
    "y5tipsdf.columns = [\"5y Tips\"]\n",
    "y30df = pd.DataFrame(y30)\n",
    "y20df = pd.DataFrame(y20)\n",
    "y10df = pd.DataFrame(y10)\n",
    "y7df = pd.DataFrame(y7)\n",
    "y5df = pd.DataFrame(y5)\n",
    "y3df = pd.DataFrame(y3)\n",
    "y2df = pd.DataFrame(y2)\n",
    "y1df = pd.DataFrame(y1)\n",
    "m6df = pd.DataFrame(m6)\n",
    "m3df = pd.DataFrame(m3)\n",
    "m1df = pd.DataFrame(m1)\n",
    "fedfunddf = pd.DataFrame(fedfund)\n",
    "y30df.columns = [\"30y\"]\n",
    "y20df.columns = [\"20y\"]\n",
    "y10df.columns = [\"10y\"]\n",
    "y7df.columns = [\"7y\"]\n",
    "y5df.columns = [\"5y\"]\n",
    "y3df.columns = [\"3y\"]\n",
    "y2df.columns = [\"2y\"]\n",
    "y1df.columns = [\"1y\"]\n",
    "m6df.columns = [\"6m\"]\n",
    "m3df.columns = [\"3m\"]\n",
    "m1df.columns = [\"1m\"]\n",
    "fedfunddf.columns = [\"Fed Fund Rate\"]\n"
   ]
  },
  {
   "cell_type": "code",
   "execution_count": null,
   "id": "60fd0f19",
   "metadata": {},
   "outputs": [],
   "source": [
    "out_join_rates=(fedfunddf.join(m1df,how='outer').join(m3df,how='outer').join(m6df,how='outer')\n",
    "    .join(y1df,how='outer').join(y2df,how='outer').join(y3df,how='outer').join(y5df,how='outer')\n",
    "    .join(y7df,how='outer').join(y10df,how='outer').join(y20df,how='outer').join(y30df,how='outer')\n",
    "    .join(y5tipsdf,how='outer').join(y7tipsdf,how='outer').join(y10tipsdf,how='outer').join(y20tipsdf,how='outer')\n",
    "    .join(y30tipsdf,how='outer'))"
   ]
  },
  {
   "cell_type": "code",
   "execution_count": null,
   "id": "2f9a55f8",
   "metadata": {},
   "outputs": [],
   "source": [
    "out_join_rates=out_join_rates.fillna(method=\"ffill\")\n",
    "print_out_join_rates=out_join_rates.tail(30)\n",
    "print_out_join_rates = print_out_join_rates.iloc[::-1]\n",
    "print_out_join_rates.tail(30)"
   ]
  },
  {
   "cell_type": "code",
   "execution_count": null,
   "id": "9a74a474",
   "metadata": {},
   "outputs": [],
   "source": [
    "out_join_rates.plot(kind='line',ylabel=\"rates\")\n"
   ]
  },
  {
   "cell_type": "markdown",
   "id": "d965cf41",
   "metadata": {},
   "source": [
    "The Yield Curve"
   ]
  },
  {
   "cell_type": "code",
   "execution_count": null,
   "id": "836d1272",
   "metadata": {},
   "outputs": [],
   "source": [
    "# Upper graphs at different points in time additional idea -> surface https://github.com/bokeh/bokeh/blob/branch-3.0/examples/app/surface3d/main.py\n"
   ]
  },
  {
   "cell_type": "markdown",
   "id": "a93908e6",
   "metadata": {},
   "source": [
    "IG, HY / Junk Spreads over 10 years"
   ]
  },
  {
   "cell_type": "code",
   "execution_count": null,
   "id": "368b34c0",
   "metadata": {},
   "outputs": [],
   "source": [
    "aaa_df = pd.DataFrame(aaa_credit_effective)\n",
    "aaa_df.columns = [\"AAA\"]\n",
    "bbb_df = pd.DataFrame(bbb_credit_effective)\n",
    "bbb_df.columns = [\"BBB\"]\n",
    "ccc_df = pd.DataFrame(ccc_credit_effective)\n",
    "ccc_df.columns = [\"CCC\"]\n",
    "y10_df = pd.DataFrame(y10)\n",
    "y10_df.columns = [\"10y\"]\n",
    "\n",
    "\n",
    "out_join_yields=(aaa_df\n",
    "                 .join(bbb_df,how='outer')\n",
    "                 .join(ccc_df,how='outer')\n",
    "                 .join(y10_df,how='outer'))\n"
   ]
  },
  {
   "cell_type": "code",
   "execution_count": null,
   "id": "36f26c60",
   "metadata": {},
   "outputs": [],
   "source": [
    "out_join_yields.plot(kind='line',ylabel=\"yields\")\n"
   ]
  },
  {
   "cell_type": "code",
   "execution_count": null,
   "id": "bbf99975",
   "metadata": {},
   "outputs": [],
   "source": [
    "# add spreads\n",
    "out_join_spreads=pd.DataFrame()\n",
    "out_join_spreads['AAA-BBB']=out_join_yields['AAA']-out_join_yields['BBB']\n",
    "out_join_spreads['AAA-CCC']=out_join_yields['AAA']-out_join_yields['CCC']\n",
    "out_join_spreads['BBB-CCC']=out_join_yields['AAA']-out_join_yields['CCC']\n",
    "out_join_spreads['10y-AAA']=out_join_yields['10y']-out_join_yields['AAA']\n",
    "out_join_spreads['10y-BBB']=out_join_yields['10y']-out_join_yields['BBB']\n",
    "out_join_spreads['10y-CCC']=out_join_yields['10y']-out_join_yields['CCC']\n",
    "#out_join_yields['AAA-BBB','AAA-CCC','BBB-CCC','10y-AAA','10y-BBB','10y-CCC'].plot(kind='line',ylabel='delta yield')"
   ]
  },
  {
   "cell_type": "code",
   "execution_count": null,
   "id": "68283434",
   "metadata": {},
   "outputs": [],
   "source": [
    "out_join_spreads.plot(kind='line',ylabel='yield delta')"
   ]
  },
  {
   "cell_type": "code",
   "execution_count": null,
   "id": "79fc0370",
   "metadata": {},
   "outputs": [],
   "source": [
    "out_join_spreads.tail(30)"
   ]
  },
  {
   "cell_type": "markdown",
   "id": "80a2b508",
   "metadata": {},
   "source": [
    "M2 Money Supply"
   ]
  },
  {
   "cell_type": "code",
   "execution_count": null,
   "id": "60e56009",
   "metadata": {},
   "outputs": [],
   "source": [
    "m2_df=pd.DataFrame(m2)\n",
    "data_spx_total=yf.download(\"^SPX\", period=\"max\") # TODO: buggy with max right now\n",
    "out_join_m2=m2_df.join(data_spx_total['Close'],how=\"outer\") #we outer join here, else we would have a ton of nans\n",
    "\n",
    "out_join_m2.columns=['M2','SPX']\n",
    "\n",
    "# we fill up the daily closes vs the monthly data\n",
    "out_join_m2['SPX']=out_join_m2['SPX'].fillna(method='ffill')\n",
    "\n",
    "# we remove the datapoints where we don't have a M2 datapoint\n",
    "out_join_m2=out_join_m2.dropna()\n",
    "# plotting\n",
    "out_join_m2.plot(kind='line',ylabel='M2')"
   ]
  },
  {
   "cell_type": "markdown",
   "id": "72442435",
   "metadata": {},
   "source": [
    "Stock Market Volatility"
   ]
  },
  {
   "cell_type": "code",
   "execution_count": null,
   "id": "9cf64881",
   "metadata": {},
   "outputs": [],
   "source": [
    "# Get VIX data - compare to spx\n",
    "vix=data_vix_total['Close']\n",
    "vix_df=pd.DataFrame(vix)\n",
    "vix_df.columns=['VIX']\n",
    "vix_df.tail()\n",
    "output_data_vix_total_df=vix_df.join(data_spx_total['Close'],how=\"outer\") #we outer join here, else we would have a ton of nans\n",
    "output_data_vix_total_df.columns=['VIX','SPX']\n",
    "output_data_vix_total_df.tail()\n",
    "output_data_vix_total_df.plot(kind='line',ylabel='Close')"
   ]
  },
  {
   "cell_type": "markdown",
   "id": "bf605263",
   "metadata": {},
   "source": [
    "#### Surveys"
   ]
  },
  {
   "cell_type": "markdown",
   "id": "51723353",
   "metadata": {},
   "source": [
    "ISM Manufactoring PMI&copy;"
   ]
  },
  {
   "cell_type": "code",
   "execution_count": null,
   "id": "44255136",
   "metadata": {},
   "outputs": [],
   "source": [
    "ism_pmi_all = nasdaqdatalink.get('FRED/NAPM')"
   ]
  },
  {
   "cell_type": "code",
   "execution_count": null,
   "id": "ef2bb0f2",
   "metadata": {},
   "outputs": [],
   "source": [
    "# here comes the ism - we need to add manually the data, api requests will only return the data up to mai 2016\n",
    "output_ism_pmi=ism_pmi\n",
    "#ism_pmi_all[datetime.datetime(2000,1,10):]\n",
    "\n",
    "output_ism_pmi.tail()"
   ]
  },
  {
   "cell_type": "markdown",
   "id": "f74648df",
   "metadata": {},
   "source": [
    "ISM Services PMI&copy;"
   ]
  },
  {
   "cell_type": "code",
   "execution_count": null,
   "id": "81dcae6d",
   "metadata": {},
   "outputs": [],
   "source": [
    "# here comes the ism - we need to add manually the data, api requests will only return the data up to mai 2016\n",
    "output_ism_nmi=ism_nmi\n",
    "#ism_pmi_all[datetime.datetime(2000,1,10):]\n",
    "\n",
    "output_ism_nmi.tail()"
   ]
  },
  {
   "cell_type": "markdown",
   "id": "a4a2853c",
   "metadata": {},
   "source": [
    "UMCSI"
   ]
  },
  {
   "cell_type": "code",
   "execution_count": null,
   "id": "055787e2",
   "metadata": {},
   "outputs": [],
   "source": [
    "# UMCSI direct data links to csv's\n",
    "tbmics = pd.read_csv(\"http://www.sca.isr.umich.edu/files/tbmics.csv\")\n",
    "tbmiccice = pd.read_csv(\"http://www.sca.isr.umich.edu/files/tbmiccice.csv\")\n",
    "tbmpx1px5 = pd.read_csv(\"http://www.sca.isr.umich.edu/files/tbmpx1px5.csv\")"
   ]
  },
  {
   "cell_type": "code",
   "execution_count": null,
   "id": "bf6ee5f2",
   "metadata": {},
   "outputs": [],
   "source": [
    "tbmics.tail()"
   ]
  },
  {
   "cell_type": "markdown",
   "id": "78623b9e",
   "metadata": {},
   "source": [
    "Building Permits"
   ]
  },
  {
   "cell_type": "code",
   "execution_count": null,
   "id": "01b6f4e9",
   "metadata": {},
   "outputs": [],
   "source": [
    "building_permits.plot(kind='line')"
   ]
  },
  {
   "cell_type": "markdown",
   "id": "13473d94",
   "metadata": {},
   "source": [
    "NFIB Small Business Optimism Index"
   ]
  },
  {
   "cell_type": "code",
   "execution_count": null,
   "id": "05982b56",
   "metadata": {},
   "outputs": [],
   "source": [
    "# open api nfib-sbet\n",
    "# todo -> we create a server error\n",
    "url = 'http://open.api.nfib-sbet.org/rest/sbetdb/_proc/getIndicators2'\n",
    "# good till 12-2055\n",
    "rawdata='app_name=sbet&params%5B0%5D%5Bname%5D=minYear&params%5B0%5D%5Bparam_type%5D=IN&params%5B0%5D%5Bvalue%5D=1986&params%5B1%5D%5Bname%5D=minMonth&params%5B1%5D%5Bparam_type%5D=IN&params%5B1%5D%5Bvalue%5D=1&params%5B2%5D%5Bname%5D=maxYear&params%5B2%5D%5Bparam_type%5D=IN&params%5B2%5D%5Bvalue%5D=2055&params%5B3%5D%5Bname%5D=maxMonth&params%5B3%5D%5Bparam_type%5D=IN&params%5B3%5D%5Bvalue%5D=12&params%5B4%5D%5Bname%5D=indicator&params%5B4%5D%5Bparam_type%5D=IN&params%5B4%5D%5Bvalue%5D=OPT_INDEX'\n",
    "nfib_json_response_test=requests.post(url,data=rawdata,headers={\"Content-Type\": \"application/x-www-form-urlencoded; charset=UTF-8\",\"X-DreamFactory-Application-Name\":\"sbet\"})\n",
    "#nfib_json_response = requests.post(url, headers=myheader,json=params)\n",
    "# working wget\n",
    "# wget --post-data 'app_name=sbet&params%5B0%5D%5Bname%5D=minYear&params%5B0%5D%5Bparam_type%5D=IN&params%5B0%5D%5Bvalue%5D=1986&params%5B1%5D%5Bname%5D=minMonth&params%5B1%5D%5Bparam_type%5D=IN&params%5B1%5D%5Bvalue%5D=1&params%5B2%5D%5Bname%5D=maxYear&params%5B2%5D%5Bparam_type%5D=IN&params%5B2%5D%5Bvalue%5D=2022&params%5B3%5D%5Bname%5D=maxMonth&params%5B3%5D%5Bparam_type%5D=IN&params%5B3%5D%5Bvalue%5D=12&params%5B4%5D%5Bname%5D=indicator&params%5B4%5D%5Bparam_type%5D=IN&params%5B4%5D%5Bvalue%5D=OPT_INDEX' http://open.api.nfib-sbet.org/rest/sbetdb/_proc/getIndicators2\n"
   ]
  }
 ],
 "metadata": {
  "kernelspec": {
   "display_name": "Python 3 (ipykernel)",
   "language": "python",
   "name": "python3"
  },
  "language_info": {
   "codemirror_mode": {
    "name": "ipython",
    "version": 3
   },
   "file_extension": ".py",
   "mimetype": "text/x-python",
   "name": "python",
   "nbconvert_exporter": "python",
   "pygments_lexer": "ipython3",
   "version": "3.8.12"
  }
 },
 "nbformat": 4,
 "nbformat_minor": 5
}
